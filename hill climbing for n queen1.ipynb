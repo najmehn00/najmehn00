{
 "cells": [
  {
   "cell_type": "code",
   "execution_count": 1,
   "id": "1094195f",
   "metadata": {},
   "outputs": [],
   "source": [
    "import numpy as np"
   ]
  },
  {
   "cell_type": "code",
   "execution_count": 2,
   "id": "20f6b53a",
   "metadata": {},
   "outputs": [],
   "source": [
    "def objective(position):\n",
    "    \n",
    "    no_attack_on_j = 0\n",
    "    \n",
    "    queen_not_attacking=0\n",
    "    \n",
    "    for i in range(len(position) - 1): \n",
    "        \n",
    "        no_attack_on_j=0\n",
    "        \n",
    "        for j in range(i + 1, len(position)):\n",
    "            \n",
    "            if (position[j] != position[i]) and (position[j] != position[i] + (j - i)) and (position[j] != position[i] - (j - i)):\n",
    "                \n",
    "                no_attack_on_j += 1\n",
    "                \n",
    "                if(no_attack_on_j==len(position)-1-i):\n",
    "                    \n",
    "                    queen_not_attacking+=1\n",
    "\n",
    "    if(queen_not_attacking==7):\n",
    "        \n",
    "        queen_not_attacking+=1\n",
    "    \n",
    "    return queen_not_attacking"
   ]
  },
  {
   "cell_type": "code",
   "execution_count": 3,
   "id": "2011de8c",
   "metadata": {},
   "outputs": [],
   "source": [
    "def hill_climbing_for_nqueen(n):\n",
    "    \n",
    "    rand_sol=[]\n",
    "    \n",
    "    for i in range(n):\n",
    "        \n",
    "        rand_sol.append(np.random.randint(0,high=n))\n",
    "    \n",
    "    board = np.zeros((n,n))\n",
    "    \n",
    "    for i in range(n):\n",
    "        \n",
    "        board[i,rand_sol[i]] = 8\n",
    "        \n",
    "    print('starting game state= \\n', board, '\\n queens in peace = ', objective(rand_sol))\n",
    "    \n",
    "    best = rand_sol\n",
    "    \n",
    "    old_best = []\n",
    "    \n",
    "    while best != old_best :\n",
    "        \n",
    "        old_best = best\n",
    "        \n",
    "        s1 = best\n",
    "        s2 = best\n",
    "        s3 = best\n",
    "        \n",
    "        rand_num1 = np.random.randint(0,high=n)\n",
    "        rand_num2 = np.random.randint(0,high=n)\n",
    "        rand_num3 = np.random.randint(0,high=n)\n",
    "        \n",
    "        s1[np.random.randint(0,high=n)] = np.random.randint(0,high=n)\n",
    "        \n",
    "        s2[np.random.randint(0,high=n)] = np.random.randint(0,high=n)\n",
    "        s2[np.random.randint(0,high=n)] = np.random.randint(0,high=n)\n",
    "        \n",
    "        s3[np.random.randint(0,high=n)] = np.random.randint(0,high=n)\n",
    "        s3[np.random.randint(0,high=n)] = np.random.randint(0,high=n)\n",
    "        s3[np.random.randint(0,high=n)] = np.random.randint(0,high=n)\n",
    "        \n",
    "        nn = max(objective(s1),objective(s2),objective(s3),objective(best))\n",
    "        \n",
    "        if nn == objective(s1):\n",
    "            best = s1\n",
    "        elif nn == objective(s2):\n",
    "            best = s2\n",
    "        elif nn == objective(s3):\n",
    "            best = s3\n",
    "            \n",
    "    board = np.zeros((n,n))\n",
    "    \n",
    "    for i in range(n):\n",
    "        \n",
    "        board[i,best[i]] = 8\n",
    "        \n",
    "    print('\\n Final game state =\\n', board, '\\n queens in peace = ', objective(best))"
   ]
  },
  {
   "cell_type": "code",
   "execution_count": 18,
   "id": "31514fdd",
   "metadata": {},
   "outputs": [
    {
     "name": "stdout",
     "output_type": "stream",
     "text": [
      "starting game state= \n",
      " [[0. 8. 0. 0. 0. 0. 0. 0. 0.]\n",
      " [0. 0. 8. 0. 0. 0. 0. 0. 0.]\n",
      " [0. 0. 8. 0. 0. 0. 0. 0. 0.]\n",
      " [0. 0. 0. 0. 8. 0. 0. 0. 0.]\n",
      " [0. 0. 0. 0. 0. 8. 0. 0. 0.]\n",
      " [0. 0. 0. 0. 8. 0. 0. 0. 0.]\n",
      " [0. 0. 8. 0. 0. 0. 0. 0. 0.]\n",
      " [0. 0. 0. 0. 8. 0. 0. 0. 0.]\n",
      " [0. 0. 0. 0. 8. 0. 0. 0. 0.]] \n",
      " queens in peace =  0\n",
      "\n",
      " Final game state =\n",
      " [[8. 0. 0. 0. 0. 0. 0. 0. 0.]\n",
      " [0. 0. 8. 0. 0. 0. 0. 0. 0.]\n",
      " [0. 8. 0. 0. 0. 0. 0. 0. 0.]\n",
      " [0. 0. 0. 0. 0. 0. 8. 0. 0.]\n",
      " [0. 0. 0. 0. 0. 8. 0. 0. 0.]\n",
      " [0. 0. 0. 0. 8. 0. 0. 0. 0.]\n",
      " [0. 0. 8. 0. 0. 0. 0. 0. 0.]\n",
      " [0. 0. 0. 0. 8. 0. 0. 0. 0.]\n",
      " [0. 8. 0. 0. 0. 0. 0. 0. 0.]] \n",
      " queens in peace =  3\n"
     ]
    }
   ],
   "source": [
    "hill_climbing_for_nqueen(9)"
   ]
  },
  {
   "cell_type": "code",
   "execution_count": 19,
   "id": "2fe9e2ff",
   "metadata": {},
   "outputs": [
    {
     "name": "stdout",
     "output_type": "stream",
     "text": [
      "starting game state= \n",
      " [[0. 0. 0. 0. 0. 8. 0. 0.]\n",
      " [0. 0. 0. 0. 8. 0. 0. 0.]\n",
      " [0. 8. 0. 0. 0. 0. 0. 0.]\n",
      " [0. 0. 0. 0. 0. 0. 0. 8.]\n",
      " [0. 0. 0. 0. 8. 0. 0. 0.]\n",
      " [0. 8. 0. 0. 0. 0. 0. 0.]\n",
      " [0. 0. 0. 0. 8. 0. 0. 0.]\n",
      " [0. 0. 0. 0. 0. 8. 0. 0.]] \n",
      " queens in peace =  1\n",
      "\n",
      " Final game state =\n",
      " [[0. 0. 0. 0. 8. 0. 0. 0.]\n",
      " [0. 0. 8. 0. 0. 0. 0. 0.]\n",
      " [0. 8. 0. 0. 0. 0. 0. 0.]\n",
      " [0. 0. 0. 0. 0. 0. 0. 8.]\n",
      " [0. 0. 0. 0. 0. 8. 0. 0.]\n",
      " [0. 0. 8. 0. 0. 0. 0. 0.]\n",
      " [0. 0. 0. 0. 8. 0. 0. 0.]\n",
      " [0. 0. 0. 0. 0. 8. 0. 0.]] \n",
      " queens in peace =  2\n"
     ]
    }
   ],
   "source": [
    "hill_climbing_for_nqueen(8)"
   ]
  },
  {
   "cell_type": "code",
   "execution_count": 20,
   "id": "9b444227",
   "metadata": {},
   "outputs": [
    {
     "name": "stdout",
     "output_type": "stream",
     "text": [
      "starting game state= \n",
      " [[0. 0. 0. 0. 8. 0. 0. 0. 0.]\n",
      " [0. 0. 0. 0. 0. 0. 0. 8. 0.]\n",
      " [0. 0. 0. 0. 0. 0. 0. 0. 8.]\n",
      " [0. 0. 8. 0. 0. 0. 0. 0. 0.]\n",
      " [0. 0. 8. 0. 0. 0. 0. 0. 0.]\n",
      " [0. 0. 0. 0. 0. 0. 8. 0. 0.]\n",
      " [0. 0. 8. 0. 0. 0. 0. 0. 0.]\n",
      " [0. 0. 0. 0. 8. 0. 0. 0. 0.]\n",
      " [0. 0. 0. 0. 0. 0. 0. 0. 8.]] \n",
      " queens in peace =  2\n",
      "\n",
      " Final game state =\n",
      " [[0. 0. 0. 0. 0. 0. 8. 0. 0.]\n",
      " [0. 0. 0. 0. 0. 0. 0. 8. 0.]\n",
      " [0. 0. 0. 0. 0. 0. 0. 0. 8.]\n",
      " [0. 0. 0. 0. 0. 0. 0. 8. 0.]\n",
      " [0. 0. 0. 0. 0. 0. 0. 0. 8.]\n",
      " [0. 0. 0. 0. 0. 0. 8. 0. 0.]\n",
      " [0. 0. 0. 0. 0. 0. 0. 0. 8.]\n",
      " [0. 0. 0. 0. 0. 8. 0. 0. 0.]\n",
      " [0. 0. 0. 0. 0. 0. 0. 0. 8.]] \n",
      " queens in peace =  2\n"
     ]
    }
   ],
   "source": [
    "hill_climbing_for_nqueen(9)"
   ]
  },
  {
   "cell_type": "code",
   "execution_count": 21,
   "id": "f4a6e960",
   "metadata": {},
   "outputs": [
    {
     "name": "stdout",
     "output_type": "stream",
     "text": [
      "starting game state= \n",
      " [[0. 0. 0. 0. 0. 8. 0. 0. 0.]\n",
      " [0. 0. 0. 0. 0. 8. 0. 0. 0.]\n",
      " [0. 8. 0. 0. 0. 0. 0. 0. 0.]\n",
      " [0. 8. 0. 0. 0. 0. 0. 0. 0.]\n",
      " [0. 0. 0. 0. 0. 0. 0. 8. 0.]\n",
      " [0. 0. 0. 0. 0. 8. 0. 0. 0.]\n",
      " [0. 0. 0. 0. 0. 0. 8. 0. 0.]\n",
      " [0. 0. 0. 0. 0. 0. 0. 8. 0.]\n",
      " [0. 0. 0. 0. 0. 8. 0. 0. 0.]] \n",
      " queens in peace =  2\n",
      "\n",
      " Final game state =\n",
      " [[0. 0. 0. 0. 0. 0. 0. 0. 8.]\n",
      " [0. 0. 0. 0. 0. 8. 0. 0. 0.]\n",
      " [0. 0. 0. 8. 0. 0. 0. 0. 0.]\n",
      " [0. 8. 0. 0. 0. 0. 0. 0. 0.]\n",
      " [0. 0. 0. 0. 0. 0. 0. 8. 0.]\n",
      " [0. 0. 0. 0. 0. 8. 0. 0. 0.]\n",
      " [0. 0. 8. 0. 0. 0. 0. 0. 0.]\n",
      " [0. 0. 0. 0. 0. 8. 0. 0. 0.]\n",
      " [0. 0. 0. 0. 0. 8. 0. 0. 0.]] \n",
      " queens in peace =  3\n"
     ]
    }
   ],
   "source": [
    "hill_climbing_for_nqueen(9)"
   ]
  },
  {
   "cell_type": "code",
   "execution_count": null,
   "id": "f79c3a40",
   "metadata": {},
   "outputs": [],
   "source": []
  }
 ],
 "metadata": {
  "kernelspec": {
   "display_name": "Python 3 (ipykernel)",
   "language": "python",
   "name": "python3"
  },
  "language_info": {
   "codemirror_mode": {
    "name": "ipython",
    "version": 3
   },
   "file_extension": ".py",
   "mimetype": "text/x-python",
   "name": "python",
   "nbconvert_exporter": "python",
   "pygments_lexer": "ipython3",
   "version": "3.8.11"
  }
 },
 "nbformat": 4,
 "nbformat_minor": 5
}
